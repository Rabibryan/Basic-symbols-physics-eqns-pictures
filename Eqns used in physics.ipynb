{
 "cells": [
  {
   "cell_type": "code",
   "execution_count": 1,
   "metadata": {},
   "outputs": [
    {
     "name": "stdout",
     "output_type": "stream",
     "text": [
      "Hello World\n"
     ]
    }
   ],
   "source": [
    "print('Hello World')"
   ]
  },
  {
   "cell_type": "markdown",
   "metadata": {},
   "source": [
    "# Quantum mechanical wave treatment"
   ]
  },
  {
   "cell_type": "markdown",
   "metadata": {},
   "source": [
    "## Wave motion"
   ]
  },
  {
   "cell_type": "markdown",
   "metadata": {},
   "source": [
    "$\\phi= x\\frac{2\\pi}{\\lambda}$"
   ]
  },
  {
   "cell_type": "markdown",
   "metadata": {},
   "source": [
    "$\\psi=a\\exp^{i(\\omega t-kx})$"
   ]
  },
  {
   "cell_type": "markdown",
   "metadata": {},
   "source": [
    "$y=asin(\\omega t-kx)$"
   ]
  },
  {
   "cell_type": "markdown",
   "metadata": {},
   "source": [
    "$\\nabla^2=\\frac{\\partial^2}{\\partial x^2}+\\frac{\\partial^2}{\\partial y^2}+\\frac{\\partial^2}{\\partial z^2}$"
   ]
  },
  {
   "cell_type": "markdown",
   "metadata": {},
   "source": [
    "${i\\hbar}\\frac{\\partial\\psi}{\\partial t}=H\\psi$"
   ]
  },
  {
   "cell_type": "markdown",
   "metadata": {},
   "source": [
    "$H\\psi =E\\psi$"
   ]
  },
  {
   "cell_type": "markdown",
   "metadata": {},
   "source": [
    "$\\frac{\\partial^2\\psi}{\\partial x^2} = \\frac{1}{v^2}\\frac{\\partial^2\\psi}{\\partial t^2}$"
   ]
  },
  {
   "cell_type": "markdown",
   "metadata": {},
   "source": [
    "$\\lambda = \\frac{h}{(2meV)^1/2}$"
   ]
  },
  {
   "cell_type": "markdown",
   "metadata": {},
   "source": [
    "$m = \\frac{m_0}{(1-(v^2/c^2))^1/2}$"
   ]
  },
  {
   "cell_type": "markdown",
   "metadata": {},
   "source": [
    "f =$\\frac{1}{2\\pi\\sqrt(LC)}$"
   ]
  },
  {
   "cell_type": "markdown",
   "metadata": {},
   "source": [
    "$(a+b)^2 = a^2 +2ab +b^2$"
   ]
  },
  {
   "cell_type": "markdown",
   "metadata": {},
   "source": [
    "$s = ut + \\frac{at^2}{2}$"
   ]
  },
  {
   "cell_type": "markdown",
   "metadata": {},
   "source": [
    "$\\frac{a}{b}$"
   ]
  },
  {
   "cell_type": "markdown",
   "metadata": {},
   "source": [
    "$\\frac{a/b}{c}$"
   ]
  },
  {
   "cell_type": "markdown",
   "metadata": {},
   "source": [
    "##### mathematical symbol"
   ]
  },
  {
   "cell_type": "markdown",
   "metadata": {},
   "source": [
    "$\\alpha$"
   ]
  },
  {
   "cell_type": "markdown",
   "metadata": {},
   "source": [
    "$\\beta$"
   ]
  },
  {
   "cell_type": "markdown",
   "metadata": {},
   "source": [
    "$\\gamma$"
   ]
  },
  {
   "cell_type": "markdown",
   "metadata": {},
   "source": [
    "$\\nabla$"
   ]
  },
  {
   "cell_type": "markdown",
   "metadata": {},
   "source": [
    "$\\tau$"
   ]
  },
  {
   "cell_type": "markdown",
   "metadata": {},
   "source": [
    "$\\eta$"
   ]
  },
  {
   "cell_type": "markdown",
   "metadata": {},
   "source": [
    "$\\rho$"
   ]
  },
  {
   "cell_type": "markdown",
   "metadata": {},
   "source": [
    "$\\delta$"
   ]
  },
  {
   "cell_type": "markdown",
   "metadata": {},
   "source": [
    "$\\theta$"
   ]
  },
  {
   "cell_type": "markdown",
   "metadata": {},
   "source": [
    "$\\xi$"
   ]
  },
  {
   "cell_type": "markdown",
   "metadata": {},
   "source": [
    "$\\chi$"
   ]
  },
  {
   "cell_type": "markdown",
   "metadata": {},
   "source": [
    "##### for image display"
   ]
  },
  {
   "cell_type": "markdown",
   "metadata": {},
   "source": [
    "![img](data:image/jpeg;base64,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)"
   ]
  },
  {
   "cell_type": "code",
   "execution_count": null,
   "metadata": {},
   "outputs": [],
   "source": []
  }
 ],
 "metadata": {
  "kernelspec": {
   "display_name": "Python 3",
   "language": "python",
   "name": "python3"
  },
  "language_info": {
   "codemirror_mode": {
    "name": "ipython",
    "version": 3
   },
   "file_extension": ".py",
   "mimetype": "text/x-python",
   "name": "python",
   "nbconvert_exporter": "python",
   "pygments_lexer": "ipython3",
   "version": "3.7.6"
  }
 },
 "nbformat": 4,
 "nbformat_minor": 4
}
